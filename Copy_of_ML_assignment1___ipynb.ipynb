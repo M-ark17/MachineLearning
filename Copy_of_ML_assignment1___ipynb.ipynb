{
  "nbformat": 4,
  "nbformat_minor": 0,
  "metadata": {
    "colab": {
      "name": "Copy of ML_assignment1___ipynb",
      "provenance": [],
      "collapsed_sections": [
        "UWE93egabZsN",
        "11eQhKsUbf-u",
        "zLFBBCvWbmee"
      ],
      "include_colab_link": true
    },
    "kernelspec": {
      "display_name": "Python 3",
      "language": "python",
      "name": "python3"
    },
    "language_info": {
      "codemirror_mode": {
        "name": "ipython",
        "version": 3
      },
      "file_extension": ".py",
      "mimetype": "text/x-python",
      "name": "python",
      "nbconvert_exporter": "python",
      "pygments_lexer": "ipython3",
      "version": "3.5.2"
    }
  },
  "cells": [
    {
      "cell_type": "markdown",
      "metadata": {
        "id": "view-in-github",
        "colab_type": "text"
      },
      "source": [
        "<a href=\"https://colab.research.google.com/github/M-ark17/MachineLearning/blob/master/Copy_of_ML_assignment1___ipynb.ipynb\" target=\"_parent\"><img src=\"https://colab.research.google.com/assets/colab-badge.svg\" alt=\"Open In Colab\"/></a>"
      ]
    },
    {
      "cell_type": "markdown",
      "metadata": {
        "colab_type": "text",
        "id": "13at-uWgvkQP"
      },
      "source": [
        "#Classification using Support Vector Machine\n",
        "Please do not import any other python library except numpy and matplotlib "
      ]
    },
    {
      "cell_type": "code",
      "metadata": {
        "colab_type": "code",
        "id": "JFRYyHWL-tOq",
        "colab": {}
      },
      "source": [
        "import numpy as np\n",
        "import matplotlib.pyplot as plt"
      ],
      "execution_count": 0,
      "outputs": []
    },
    {
      "cell_type": "markdown",
      "metadata": {
        "colab_type": "text",
        "id": "IYcrun6CbQ0L"
      },
      "source": [
        "#Generating Random linearly separable data\n"
      ]
    },
    {
      "cell_type": "code",
      "metadata": {
        "colab_type": "code",
        "id": "2Ene7E42Ytrc",
        "colab": {}
      },
      "source": [
        "data = [[np.random.rand(), np.random.rand()] for i in range(10)]\n",
        "for i, point in enumerate(data):\n",
        "  x, y = point\n",
        "  if 0.5*x - y + 0.25 > 0:\n",
        "    data[i].append(-1)\n",
        "  else:\n",
        "    data[i].append(1)"
      ],
      "execution_count": 0,
      "outputs": []
    },
    {
      "cell_type": "markdown",
      "metadata": {
        "colab_type": "text",
        "id": "qkrFjTOad2aU"
      },
      "source": [
        "#Visualizing the above data"
      ]
    },
    {
      "cell_type": "code",
      "metadata": {
        "colab_type": "code",
        "id": "VPdWewWZbk1r",
        "outputId": "d0b544a3-0a37-4f76-c21f-3a787cb1f43f",
        "colab": {
          "base_uri": "https://localhost:8080/",
          "height": 269
        }
      },
      "source": [
        "for x, y, l in data:\n",
        "  if l == 1: \n",
        "    clr = 'red'\n",
        "  else: \n",
        "    clr = 'blue'\n",
        "  plt.scatter(x, y, c=clr)\n",
        "  plt.xlim(0,1)\n",
        "  plt.ylim(0,1)"
      ],
      "execution_count": 0,
      "outputs": [
        {
          "output_type": "display_data",
          "data": {
            "image/png": "[encoded data removed]",
            "text/plain": [
              "<Figure size 432x288 with 1 Axes>"
            ]
          },
          "metadata": {
            "tags": []
          }
        }
      ]
    },
    {
      "cell_type": "markdown",
      "metadata": {
        "colab_type": "text",
        "id": "8Ul5Uantin_q"
      },
      "source": [
        "#SVM Classifier\n",
        "Train a SVM classifier using gradient descent and return a Weight Matrix which is a numpy array of length (N + 1) where N is dimension of training samples. \n",
        "You can refer to Fig. 1 in [this](https://www.cs.huji.ac.il/~shais/papers/ShalevSiSrCo10.pdf) paper for implementation. You can add arguments to svm_function according to your implementation."
      ]
    },
    {
      "cell_type": "code",
      "metadata": {
        "colab_type": "code",
        "id": "9y6Jet_QcdBo",
        "colab": {}
      },
      "source": [
        "def svm_function(x, y, epoch, l_rate):\n",
        "    ###################################\n",
        "    ### Write your code here###########\n",
        "    w = np.zeros(x.shape[1])\n",
        "    for i in range(0,epoch):\n",
        "      permute = np.random.permutation(len(x))\n",
        "\n",
        "      for j in permute:\n",
        "        if(j != 0):\n",
        "          l_rate_j = 1/j*l_rate\n",
        "        else:\n",
        "          l_rate_j = 1/len(x)*l_rate\n",
        "        z = np.dot(np.transpose(w),x[j,:])\n",
        "        if (y[j]*z < 1):\n",
        "          w = (1-l_rate_j*l_rate)*w + l_rate_j*np.multiply(y[j],x[j,:])\n",
        "        else:\n",
        "          w = (1-l_rate_j*l_rate)*w \n",
        "    ###################################\n",
        "    return w"
      ],
      "execution_count": 0,
      "outputs": []
    },
    {
      "cell_type": "markdown",
      "metadata": {
        "colab_type": "text",
        "id": "5xSS1Rn5iuLL"
      },
      "source": [
        "#Run SVM Classifier"
      ]
    },
    {
      "cell_type": "code",
      "metadata": {
        "colab_type": "code",
        "id": "LVAtpfnme0J-",
        "colab": {}
      },
      "source": [
        "data = np.asarray(data)\n",
        "X = data[:,:2]\n",
        "Y = data[:,2]\n",
        "w = svm_function(X, Y, 10000, 1)"
      ],
      "execution_count": 0,
      "outputs": []
    },
    {
      "cell_type": "markdown",
      "metadata": {
        "colab_type": "text",
        "id": "neqORagGixnt"
      },
      "source": [
        "#Visualize the classifier\n",
        "Write a code to draw a lines corrosponding to 'w' vector you got as output from svm_function and for a line from which actual data was generated\n",
        "(0.5*x - y + 0.25). "
      ]
    },
    {
      "cell_type": "code",
      "metadata": {
        "id": "lkyRWfFSw2aq",
        "colab_type": "code",
        "outputId": "20add568-4a86-4055-f766-63ab65d5a332",
        "colab": {
          "base_uri": "https://localhost:8080/",
          "height": 497
        }
      },
      "source": [
        "    ###################################\n",
        "    ### Write your code here###########\n",
        "    plt.plot(data[:,0],0.5*data[:,0] + 0.25)\n",
        "    m = 0\n",
        "    plot_data = np.zeros([len(data),2])\n",
        "    for x, y, l in data:\n",
        "      if l == 1: \n",
        "        clr = 'red'\n",
        "      else: \n",
        "        clr = 'blue'\n",
        "      plot_data[m] = w[0]*x+w[1]*y\n",
        "      m+=1\n",
        "      plt.scatter(x, y, c=clr)\n",
        "      plt.xlim(0,1)\n",
        "      plt.ylim(0,1)\n",
        "    plt.plot(plot_data,data[:,1])\n",
        "    # print(plot_data,data[:,0],0.5*data[:,0] + 0.25,w)\n",
        "    ###################################"
      ],
      "execution_count": 0,
      "outputs": [
        {
          "output_type": "stream",
          "text": [
            "[[-0.64734125 -0.64734125]\n",
            " [-0.28835539 -0.28835539]\n",
            " [-0.2495872  -0.2495872 ]\n",
            " [-0.42849199 -0.42849199]\n",
            " [-0.14857195 -0.14857195]\n",
            " [-0.09424892 -0.09424892]\n",
            " [-0.53306385 -0.53306385]\n",
            " [-0.6313719  -0.6313719 ]\n",
            " [-0.52133268 -0.52133268]\n",
            " [-0.62649295 -0.62649295]] [0.98752341 0.45292925 0.20460622 0.61209567 0.1688713  0.14493045\n",
            " 0.83979665 0.9877234  0.71790445 0.97888053] [0.74376171 0.47646463 0.35230311 0.55604783 0.33443565 0.32246522\n",
            " 0.66989833 0.7438617  0.60895223 0.73944026] [-0.60004144 -0.18852177]\n"
          ],
          "name": "stdout"
        },
        {
          "output_type": "display_data",
          "data": {
            "image/png": "[encoded data removed]",
            "text/plain": [
              "<Figure size 432x288 with 1 Axes>"
            ]
          },
          "metadata": {
            "tags": []
          }
        }
      ]
    },
    {
      "cell_type": "markdown",
      "metadata": {
        "id": "dY3IRad0-Cg8",
        "colab_type": "text"
      },
      "source": [
        "Increase the number of data-points and observe number of epochs to converge. Draw plots showing data-points, actual data seprating line and line corrosponding to 'w' you got from svm_function for 10, 20, 30, 40, 50 and 100 data-points. Please use only one notebook cell for this visualization. Please use subplot function in matplotlib for this."
      ]
    },
    {
      "cell_type": "code",
      "metadata": {
        "id": "o2rqwN3zD1IY",
        "colab_type": "code",
        "colab": {}
      },
      "source": [
        "    ###################################\n",
        "    ### Write your code here###########\n",
        "    ###################################"
      ],
      "execution_count": 0,
      "outputs": []
    },
    {
      "cell_type": "markdown",
      "metadata": {
        "colab_type": "text",
        "id": "nybBTVAuv7vX"
      },
      "source": [
        "#Perturbing the previously created  data\n",
        "Add noise to the data and visualize the resulting classifier.\n",
        "\n",
        "\n"
      ]
    },
    {
      "cell_type": "code",
      "metadata": {
        "colab_type": "code",
        "id": "v072suqtiZqP",
        "colab": {}
      },
      "source": [
        "for i in range(len(data)):\n",
        "  data[i][0] += (np.random.rand() - 0.5) / 2.\n",
        "  data[i][1] += (np.random.rand() - 0.5) / 2."
      ],
      "execution_count": 0,
      "outputs": []
    },
    {
      "cell_type": "markdown",
      "metadata": {
        "colab_type": "text",
        "id": "v9cziKy-yzRB"
      },
      "source": [
        "#Visualizing the perturbed Data"
      ]
    },
    {
      "cell_type": "code",
      "metadata": {
        "colab_type": "code",
        "id": "3XCbAHV9v_h4",
        "outputId": "d6dddcd0-f2b6-4008-877c-f7ba9e30cd9e",
        "colab": {
          "base_uri": "https://localhost:8080/",
          "height": 269
        }
      },
      "source": [
        "for x, y, l in data:\n",
        "  if l == 1: \n",
        "    clr = 'red'\n",
        "  else: \n",
        "    clr = 'blue'\n",
        "  plt.scatter(x, y, c=clr)\n",
        "  plt.xlim(-0.5,1.5)\n",
        "  plt.ylim(-0.5,1.5)"
      ],
      "execution_count": 0,
      "outputs": [
        {
          "output_type": "display_data",
          "data": {
            "image/png": "[encoded data removed]",
            "text/plain": [
              "<Figure size 432x288 with 1 Axes>"
            ]
          },
          "metadata": {
            "tags": []
          }
        }
      ]
    },
    {
      "cell_type": "markdown",
      "metadata": {
        "colab_type": "text",
        "id": "ytt1BrH_y5ms"
      },
      "source": [
        "#Visualize the classifier trained on noisy data\n",
        "Plot actual seperating line and seperating line you got from svm_classifier. Do this for 10, 20, 30, 40, 50 and 100 data points. You can vary the scale of noise as well. Please use only one notebook cell for this visualization. Please use subplot function in matplotlib for this."
      ]
    },
    {
      "cell_type": "code",
      "metadata": {
        "id": "9cMm9PG4wU1h",
        "colab_type": "code",
        "colab": {}
      },
      "source": [
        "    ###################################\n",
        "    ### Write your code here###########\n",
        "    ###################################"
      ],
      "execution_count": 0,
      "outputs": []
    },
    {
      "cell_type": "markdown",
      "metadata": {
        "colab_type": "text",
        "id": "UWE93egabZsN"
      },
      "source": [
        "#Read the Random Non-linear data stored in CSV1 and visualize it"
      ]
    },
    {
      "cell_type": "code",
      "metadata": {
        "id": "8ypsb9HEwUFc",
        "colab_type": "code",
        "colab": {}
      },
      "source": [
        "    ################################################\n",
        "    ### Write your code here (read data) ###########\n",
        "    ################################################\n",
        "\n",
        "\n",
        "    ###################################################\n",
        "    ### Write your code here (visualization)###########\n",
        "    ###################################################"
      ],
      "execution_count": 0,
      "outputs": []
    },
    {
      "cell_type": "markdown",
      "metadata": {
        "id": "alWwrjazvVLl",
        "colab_type": "text"
      },
      "source": [
        "#Train a SVM classifier on the linearly non-separable data by appropriate features crafted from input data\n",
        "For linearly non-separable data, you need to transform the data in a space where it can be linearly seprable. These features can be exponential, polynomial, trignometric or any other function of actual input features. For example, if your input data is (x1, x2) you can have hand-crafted features as (sin(x1), cos(x1), cos(x2), x1-x2). \n",
        "Here you need to think of which hand-crafted features can be best suited for data given to you. Write a function to convert input features to hand-crafted features. Use these features to train a SVM using svm_function.\n",
        "Note that, if you choose to have L hand-crafted features, SVM will return L+1 dimensional 'w'. \n"
      ]
    },
    {
      "cell_type": "code",
      "metadata": {
        "id": "gCzlFpckwVzO",
        "colab_type": "code",
        "colab": {}
      },
      "source": [
        "    ################################################\n",
        "    ### Write your code here for features###########\n",
        "    ################################################\n",
        "\n",
        "\n",
        "    ######################################################\n",
        "    ### Write your code here for classification###########\n",
        "    ######################################################\n"
      ],
      "execution_count": 0,
      "outputs": []
    },
    {
      "cell_type": "markdown",
      "metadata": {
        "id": "iN_UcRMNRGWN",
        "colab_type": "text"
      },
      "source": [
        "#Visualize decision boundary\n",
        "Here, as 'w' retuened by svm_function is (L+1) dimensional, you can not visualize it in the form of line in 2D. To visualize non-linear decision boundary in 2D, you can generate few hundred random data-points and can observe if classifier labels them +1 or -1. Then you can plot this points with different colors to get emperical decision boundary. Write the code for visualization of non-linear decision boundary in next cell."
      ]
    },
    {
      "cell_type": "code",
      "metadata": {
        "id": "bBIXZbAnSlNa",
        "colab_type": "code",
        "colab": {}
      },
      "source": [
        "    ###################################\n",
        "    ### Write your code here###########\n",
        "    ###################################"
      ],
      "execution_count": 0,
      "outputs": []
    },
    {
      "cell_type": "markdown",
      "metadata": {
        "id": "iUk6uoThwZMp",
        "colab_type": "text"
      },
      "source": [
        "#Read the Random Non-linear data stored in CSV2"
      ]
    },
    {
      "cell_type": "code",
      "metadata": {
        "id": "Xbba53QawbRW",
        "colab_type": "code",
        "colab": {}
      },
      "source": [
        "    ###################################\n",
        "    ### Write your code here###########\n",
        "    ###################################"
      ],
      "execution_count": 0,
      "outputs": []
    },
    {
      "cell_type": "markdown",
      "metadata": {
        "id": "mZ3PDED_wd41",
        "colab_type": "text"
      },
      "source": [
        "#Train a SVM classifier on the non linear data by appropriate features and also visualise it"
      ]
    },
    {
      "cell_type": "code",
      "metadata": {
        "id": "-_mwG4Ffwe8V",
        "colab_type": "code",
        "colab": {}
      },
      "source": [
        "    ###################################\n",
        "    ### Write your code here###########\n",
        "    ###################################"
      ],
      "execution_count": 0,
      "outputs": []
    },
    {
      "cell_type": "markdown",
      "metadata": {
        "id": "y_0tNAPtwfx3",
        "colab_type": "text"
      },
      "source": [
        "#Read the Random Non-linear data stored in CSV3"
      ]
    },
    {
      "cell_type": "code",
      "metadata": {
        "id": "vI8OP9mUwhmy",
        "colab_type": "code",
        "colab": {}
      },
      "source": [
        "    ###################################\n",
        "    ### Write your code here###########\n",
        "    ###################################"
      ],
      "execution_count": 0,
      "outputs": []
    },
    {
      "cell_type": "markdown",
      "metadata": {
        "id": "xLj09HhhwiAO",
        "colab_type": "text"
      },
      "source": [
        "#Train a SVM classifier on the non linear data by appropriate Feature Engineering and also visualise it"
      ]
    },
    {
      "cell_type": "code",
      "metadata": {
        "id": "_M04CZx_wi-U",
        "colab_type": "code",
        "colab": {}
      },
      "source": [
        "    ###################################\n",
        "    ### Write your code here###########\n",
        "    ###################################"
      ],
      "execution_count": 0,
      "outputs": []
    }
  ]
}